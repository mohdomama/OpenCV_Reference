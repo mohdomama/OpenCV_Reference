{
 "cells": [
  {
   "cell_type": "code",
   "execution_count": 6,
   "metadata": {},
   "outputs": [
    {
     "data": {
      "text/plain": [
       "'1.14.5'"
      ]
     },
     "execution_count": 6,
     "metadata": {},
     "output_type": "execute_result"
    }
   ],
   "source": [
    "import numpy as np\n",
    "import time\n",
    "np.__version__\n"
   ]
  },
  {
   "cell_type": "code",
   "execution_count": 3,
   "metadata": {},
   "outputs": [
    {
     "name": "stdout",
     "output_type": "stream",
     "text": [
      "[1 2 3 4]\n"
     ]
    }
   ],
   "source": [
    "a = np.array([1,2,3,4])\n",
    "print(a)"
   ]
  },
  {
   "cell_type": "code",
   "execution_count": 51,
   "metadata": {},
   "outputs": [
    {
     "name": "stdout",
     "output_type": "stream",
     "text": [
      "250072.9477692688\n",
      "Vector time: 1.4696121215820312ms\n",
      "250072.94776926044\n",
      "Loop time: 331.15625381469727ms\n"
     ]
    }
   ],
   "source": [
    "a = np.random.rand(1000000)\n",
    "b = np.random.rand(1000000)\n",
    "\n",
    "tic = time.time()\n",
    "c = np.dot(a,b)  # Its just a faster algorithm\n",
    "toc = time.time()\n",
    "print(c)\n",
    "print('Vector time: ' + str((toc-tic)*1000) + \"ms\")\n",
    "\n",
    "tic = time.time()\n",
    "c = 0\n",
    "for i in range(1000000):\n",
    "    c += a[i]*b[i]\n",
    "toc = time.time()\n",
    "print(c)\n",
    "print('Loop time: ' + str((toc-tic)*1000) + 'ms')\n"
   ]
  },
  {
   "cell_type": "markdown",
   "metadata": {},
   "source": [
    "### Broadcasting in Python:\n",
    "In numpy, if you have an `mxn` matric and apply an arithematic operation to it with `mx1` matrix, python will expand `mx1` to `mxn` by duplication elements and then apply arithematic operation element by element.\n",
    "\n",
    "- Matlab alternative for this is bsxfun"
   ]
  },
  {
   "cell_type": "code",
   "execution_count": 32,
   "metadata": {},
   "outputs": [
    {
     "name": "stdout",
     "output_type": "stream",
     "text": [
      "[ 59.  239.  155.4  76.9]\n",
      "[[94.91525424  0.          2.83140283 88.42652796]\n",
      " [ 2.03389831 43.51464435 33.46203346 10.40312094]\n",
      " [ 3.05084746 56.48535565 63.70656371  1.17035111]]\n"
     ]
    }
   ],
   "source": [
    "A = np.array([[56.0, 0.0, 4.4, 68.0],\n",
    "             [1.2, 104.0, 52.0, 8.0],\n",
    "             [1.8, 135, 99.0, 0.9]])\n",
    "\n",
    "cal = A.sum(axis = 0) #Vertical axis\n",
    "print(cal)\n",
    "\n",
    "percentage = 100*A/cal.reshape(1,4)  # Reshape is not necessary here. But its a constant time command. So no problem\n",
    "print(percentage)"
   ]
  },
  {
   "cell_type": "markdown",
   "metadata": {},
   "source": [
    "### Numpy/Python peculiarities\n"
   ]
  },
  {
   "cell_type": "code",
   "execution_count": 35,
   "metadata": {},
   "outputs": [
    {
     "name": "stdout",
     "output_type": "stream",
     "text": [
      "[ 0.32734682  0.2744209  -0.33911644  0.10749412 -0.08074172]\n"
     ]
    }
   ],
   "source": [
    "a = np.random.randn(5)  # Gaussian random\n",
    "print(a)"
   ]
  },
  {
   "cell_type": "code",
   "execution_count": 36,
   "metadata": {},
   "outputs": [
    {
     "name": "stdout",
     "output_type": "stream",
     "text": [
      "(5,)\n"
     ]
    }
   ],
   "source": [
    "print(a.shape) # a is neither a column nor a row vector. Its a rank 1 array"
   ]
  },
  {
   "cell_type": "code",
   "execution_count": 37,
   "metadata": {},
   "outputs": [
    {
     "name": "stdout",
     "output_type": "stream",
     "text": [
      "[ 0.32734682  0.2744209  -0.33911644  0.10749412 -0.08074172]\n",
      "0.31553694221233025\n"
     ]
    }
   ],
   "source": [
    "print(a.T)\n",
    "print(np.dot(a, a.T))\n",
    "# Unexpected behaviour"
   ]
  },
  {
   "cell_type": "code",
   "execution_count": 50,
   "metadata": {},
   "outputs": [
    {
     "name": "stdout",
     "output_type": "stream",
     "text": [
      "[[ 0.25532058]\n",
      " [-1.01658161]\n",
      " [ 0.27500655]\n",
      " [-0.30929254]\n",
      " [ 0.18919992]]\n"
     ]
    }
   ],
   "source": [
    "# Solution\n",
    "a = np.random.randn(5,1)\n",
    "print(a)\n",
    "assert(a.shape == (5,1)), \"Error Message!\"   # Use sush statements\n"
   ]
  },
  {
   "cell_type": "code",
   "execution_count": null,
   "metadata": {},
   "outputs": [],
   "source": []
  }
 ],
 "metadata": {
  "kernelspec": {
   "display_name": "cv",
   "language": "python",
   "name": "cv"
  },
  "language_info": {
   "codemirror_mode": {
    "name": "ipython",
    "version": 3
   },
   "file_extension": ".py",
   "mimetype": "text/x-python",
   "name": "python",
   "nbconvert_exporter": "python",
   "pygments_lexer": "ipython3",
   "version": "3.5.2"
  }
 },
 "nbformat": 4,
 "nbformat_minor": 2
}
